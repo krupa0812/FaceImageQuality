{
  "nbformat": 4,
  "nbformat_minor": 0,
  "metadata": {
    "colab": {
      "provenance": [],
      "authorship_tag": "ABX9TyNXR+AIpD6bEZgdignTIAbU",
      "include_colab_link": true
    },
    "kernelspec": {
      "name": "python3",
      "display_name": "Python 3"
    },
    "language_info": {
      "name": "python"
    }
  },
  "cells": [
    {
      "cell_type": "markdown",
      "metadata": {
        "id": "view-in-github",
        "colab_type": "text"
      },
      "source": [
        "<a href=\"https://colab.research.google.com/github/krupa0812/FaceImageQuality/blob/main/Face_Ima.ipynb\" target=\"_parent\"><img src=\"https://colab.research.google.com/assets/colab-badge.svg\" alt=\"Open In Colab\"/></a>"
      ]
    },
    {
      "cell_type": "code",
      "execution_count": 2,
      "metadata": {
        "colab": {
          "base_uri": "https://localhost:8080/"
        },
        "id": "pm6DmakQ-tEq",
        "outputId": "15ce1845-9e6f-4d1c-b951-2290be04ba55"
      },
      "outputs": [
        {
          "output_type": "stream",
          "name": "stdout",
          "text": [
            "/bin/bash: git clone https://github.com/pterhoer/FaceImageQuality.git: No such file or directory\n"
          ]
        }
      ],
      "source": [
        "!git clone https://github.com/pterhoer/FaceImageQuality.git"
      ]
    }
  ]
}