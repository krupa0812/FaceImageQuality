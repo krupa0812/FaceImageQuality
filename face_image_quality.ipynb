{
  "nbformat": 4,
  "nbformat_minor": 0,
  "metadata": {
    "colab": {
      "provenance": [],
      "authorship_tag": "ABX9TyN1mAtHl1v8zxhh2+k3vet3",
      "include_colab_link": true
    },
    "kernelspec": {
      "name": "python3",
      "display_name": "Python 3"
    },
    "language_info": {
      "name": "python"
    },
    "accelerator": "GPU",
    "gpuClass": "standard"
  },
  "cells": [
    {
      "cell_type": "markdown",
      "metadata": {
        "id": "view-in-github",
        "colab_type": "text"
      },
      "source": [
        "<a href=\"https://colab.research.google.com/github/krupa0812/FaceImageQuality/blob/main/face_image_quality.ipynb\" target=\"_parent\"><img src=\"https://colab.research.google.com/assets/colab-badge.svg\" alt=\"Open In Colab\"/></a>"
      ]
    },
    {
      "cell_type": "code",
      "source": [
        "pip install mxnet\n"
      ],
      "metadata": {
        "colab": {
          "base_uri": "https://localhost:8080/"
        },
        "id": "FaHTM4HyYfpX",
        "outputId": "9d8a05ca-3cfb-4cc5-99f7-01001bd9553b"
      },
      "execution_count": 3,
      "outputs": [
        {
          "output_type": "stream",
          "name": "stdout",
          "text": [
            "Looking in indexes: https://pypi.org/simple, https://us-python.pkg.dev/colab-wheels/public/simple/\n",
            "Requirement already satisfied: mxnet in /usr/local/lib/python3.10/dist-packages (1.9.1)\n",
            "Requirement already satisfied: requests<3,>=2.20.0 in /usr/local/lib/python3.10/dist-packages (from mxnet) (2.27.1)\n",
            "Requirement already satisfied: numpy<2.0.0,>1.16.0 in /usr/local/lib/python3.10/dist-packages (from mxnet) (1.22.4)\n",
            "Requirement already satisfied: graphviz<0.9.0,>=0.8.1 in /usr/local/lib/python3.10/dist-packages (from mxnet) (0.8.4)\n",
            "Requirement already satisfied: charset-normalizer~=2.0.0 in /usr/local/lib/python3.10/dist-packages (from requests<3,>=2.20.0->mxnet) (2.0.12)\n",
            "Requirement already satisfied: idna<4,>=2.5 in /usr/local/lib/python3.10/dist-packages (from requests<3,>=2.20.0->mxnet) (3.4)\n",
            "Requirement already satisfied: certifi>=2017.4.17 in /usr/local/lib/python3.10/dist-packages (from requests<3,>=2.20.0->mxnet) (2022.12.7)\n",
            "Requirement already satisfied: urllib3<1.27,>=1.21.1 in /usr/local/lib/python3.10/dist-packages (from requests<3,>=2.20.0->mxnet) (1.26.15)\n"
          ]
        }
      ]
    },
    {
      "cell_type": "code",
      "source": [
        "!mkdir insightFace\n"
      ],
      "metadata": {
        "id": "5ctnsDf7ZI2C"
      },
      "execution_count": 4,
      "outputs": []
    },
    {
      "cell_type": "code",
      "source": [
        "!mkdir data"
      ],
      "metadata": {
        "id": "fAyDQwfCYh2A"
      },
      "execution_count": null,
      "outputs": []
    },
    {
      "cell_type": "code",
      "source": [
        "!mkdir FQA-Results"
      ],
      "metadata": {
        "id": "pWtZvP5xeezP"
      },
      "execution_count": 6,
      "outputs": []
    },
    {
      "cell_type": "code",
      "source": [
        "!mkdir Bias-FQA\n"
      ],
      "metadata": {
        "id": "Ttv2f7Gdei3P"
      },
      "execution_count": 7,
      "outputs": []
    },
    {
      "cell_type": "code",
      "source": [
        "\"\"\"\n",
        "Authors: Jan Niklas Kolf, Philipp Terhörst\n",
        "This code is licensed under the terms of the \n",
        "    Attribution-NonCommercial-ShareAlike 4.0 International (CC BY-NC-SA 4.0) license.\n",
        "    https://creativecommons.org/licenses/by-nc-sa/4.0/\n",
        "    \n",
        "    \n",
        "Copyright (c) 2020 Fraunhofer Institute for Computer Graphics Research IGD Darmstadt\n",
        "THE SOFTWARE IS PROVIDED \"AS IS\", WITHOUT WARRANTY OF ANY KIND, EXPRESS OR\n",
        "IMPLIED, INCLUDING BUT NOT LIMITED TO THE WARRANTIES OF MERCHANTABILITY,\n",
        "FITNESS FOR A PARTICULAR PURPOSE AND NONINFRINGEMENT. IN NO EVENT SHALL THE\n",
        "AUTHORS OR COPYRIGHT HOLDERS BE LIABLE FOR ANY CLAIM, DAMAGES OR OTHER\n",
        "LIABILITY, WHETHER IN AN ACTION OF CONTRACT, TORT OR OTHERWISE, ARISING FROM,\n",
        "OUT OF OR IN CONNECTION WITH THE SOFTWARE OR THE USE OR OTHER DEALINGS IN THE\n",
        "SOFTWARE.\n",
        "\"\"\"\n",
        "\n",
        "!pip install mxnet\n",
        "\n",
        "# Installed modules imports\n",
        "import numpy as np\n",
        "import mxnet as mx\n",
        "from mxnet import gluon\n",
        "import cv2\n",
        "\n",
        "from sklearn.preprocessing import normalize\n",
        "from sklearn.metrics.pairwise import euclidean_distances\n",
        "\n",
        "# Insightface imports\n",
        "from insightface.src import mtcnn_detector\n",
        "from insightface.src import face_preprocess\n",
        "\n",
        "\n",
        "class SER_FIQ:\n",
        "    \n",
        "    def __init__(self,\n",
        "                 gpu:int=0, # Which gpu should be used -> gpu id\n",
        "                 det:int=0, # Mtcnn option, 1= Use R+O, 0=Detect from beginning\n",
        "                 ):\n",
        "        \"\"\"\n",
        "        Reimplementing Insightface's FaceModel class.\n",
        "        Now the dropout output and the network output are returned after a forward pass.\n",
        "        Parameters\n",
        "        ----------\n",
        "        gpu : int, optional\n",
        "            The GPU to be used by Mxnet. The default is 0.\n",
        "            If set to None, CPU is used instead.\n",
        "        det : int, optional\n",
        "            Mtcnn option, 1= Use R+0, 0= Detect from beginning. The default is 0.\n",
        "        Returns\n",
        "        -------\n",
        "        None.\n",
        "        \"\"\"\n",
        "        \n",
        "        if gpu is None:\n",
        "            self.device = mx.cpu()\n",
        "        else:\n",
        "            self.device = mx.gpu(gpu)\n",
        "\n",
        "        self.insightface = gluon.nn.SymbolBlock.imports(\n",
        "                                    \"/insightface/model/insightface-symbol.json\",\n",
        "                                    ['data'],\n",
        "                                    \"/insightface/model/insightface-0000.params\", \n",
        "                                    ctx=self.device\n",
        "                           )\n",
        "\n",
        "        \n",
        "        self.det_minsize = 50\n",
        "        self.det_threshold = [0.6,0.7,0.8]\n",
        "        self.det = det\n",
        "        \n",
        "        self.preprocess = face_preprocess.preprocess\n",
        "        \n",
        "        thrs = self.det_threshold if det==0 else [0.0,0.0,0.2]\n",
        "        \n",
        "        self.detector = mtcnn_detector.MtcnnDetector(model_folder=\"/insightface/mtcnn-model/\", \n",
        "                                                    ctx=self.device, \n",
        "                                                    num_worker=1, \n",
        "                                                    accurate_landmark = True, \n",
        "                                                    threshold=thrs\n",
        "                                                    )\n",
        "        \n",
        "    def apply_mtcnn(self, face_image : np.ndarray):\n",
        "        \"\"\"\n",
        "        Applies MTCNN Detector on the given face image and returns\n",
        "        the cropped image.\n",
        "        \n",
        "        If no face could be detected None is returned.\n",
        "        Parameters\n",
        "        ----------\n",
        "        face_image : np.ndarray\n",
        "            Face imaged loaded via OpenCV.\n",
        "        Returns\n",
        "        -------\n",
        "        Face Image : np.ndarray, shape (3,112,112).\n",
        "        None, if no face could be detected\n",
        "        \"\"\"\n",
        "        detected = self.detector.detect_face(face_image, det_type=self.det)\n",
        "        \n",
        "        if detected is None:\n",
        "            return None\n",
        "        \n",
        "        bbox, points = detected\n",
        "        \n",
        "        if bbox.shape[0] == 0:\n",
        "            return None\n",
        "\n",
        "        points = points[0, :].reshape((2,5)).T\n",
        "        \n",
        "        image = self.preprocess(face_image, bbox, points, image_size=\"112,112\")\n",
        "        image = cv2.cvtColor(image, cv2.COLOR_BGR2RGB)\n",
        "        \n",
        "        return np.transpose(image, (2,0,1))\n",
        "    \n",
        "      \n",
        "     \n",
        "    def get_score(self, aligned_img : np.ndarray, \n",
        "                        T : int = 100,\n",
        "                        alpha : float = 130.0,\n",
        "                        r : float = 0.88):\n",
        "        \"\"\"\n",
        "        Calculates the SER-FIQ score for a given aligned image using T passes.\n",
        "        \n",
        "        Parameters\n",
        "        ----------\n",
        "        aligned_img : np.ndarray, shape (3, h, w)\n",
        "            Aligned face image, in RGB format.\n",
        "        T : int, optional\n",
        "            Amount of forward passes to use. The default is 100.\n",
        "        alpha : float, optional\n",
        "            Stretching factor, can be choosen to scale the score values\n",
        "        r : float, optional\n",
        "            Score displacement\n",
        "            \n",
        "        Returns\n",
        "        -------\n",
        "        SER-FIQ score : float.\n",
        "        \"\"\"\n",
        "        # Color Channel is not the first dimension, swap dims.\n",
        "        if aligned_img.shape[0] != 3:\n",
        "            aligned_img = np.transpose(aligned_img, (2,0,1))\n",
        "\n",
        "        input_blob = np.expand_dims(aligned_img, axis=0)\n",
        "        repeated = np.repeat(input_blob, T, axis=0)\n",
        "        gpu_repeated = mx.nd.array(repeated, ctx=self.device)\n",
        "\n",
        "        X = self.insightface(gpu_repeated).asnumpy()\n",
        "               \n",
        "        norm = normalize(X, axis=1)\n",
        "        \n",
        "        # Only get the upper triangle of the distance matrix\n",
        "        eucl_dist = euclidean_distances(norm, norm)[np.triu_indices(T, k=1)]\n",
        "       \n",
        "        # Calculate score as given in the paper\n",
        "        score = 2*(1/(1+np.exp(np.mean(eucl_dist))))\n",
        "        # Normalize value based on alpha and r\n",
        "        return 1 / (1+np.exp(-(alpha * (score - r))))\n",
        "        "
      ],
      "metadata": {
        "colab": {
          "base_uri": "https://localhost:8080/"
        },
        "id": "VUgtHBjpghvr",
        "outputId": "c7642423-1a89-49e9-951c-68b2d9933051"
      },
      "execution_count": 9,
      "outputs": [
        {
          "output_type": "stream",
          "name": "stdout",
          "text": [
            "Looking in indexes: https://pypi.org/simple, https://us-python.pkg.dev/colab-wheels/public/simple/\n",
            "Requirement already satisfied: mxnet in /usr/local/lib/python3.10/dist-packages (1.9.1)\n",
            "Requirement already satisfied: requests<3,>=2.20.0 in /usr/local/lib/python3.10/dist-packages (from mxnet) (2.27.1)\n",
            "Requirement already satisfied: graphviz<0.9.0,>=0.8.1 in /usr/local/lib/python3.10/dist-packages (from mxnet) (0.8.4)\n",
            "Requirement already satisfied: numpy<2.0.0,>1.16.0 in /usr/local/lib/python3.10/dist-packages (from mxnet) (1.22.4)\n",
            "Requirement already satisfied: urllib3<1.27,>=1.21.1 in /usr/local/lib/python3.10/dist-packages (from requests<3,>=2.20.0->mxnet) (1.26.15)\n",
            "Requirement already satisfied: idna<4,>=2.5 in /usr/local/lib/python3.10/dist-packages (from requests<3,>=2.20.0->mxnet) (3.4)\n",
            "Requirement already satisfied: certifi>=2017.4.17 in /usr/local/lib/python3.10/dist-packages (from requests<3,>=2.20.0->mxnet) (2022.12.7)\n",
            "Requirement already satisfied: charset-normalizer~=2.0.0 in /usr/local/lib/python3.10/dist-packages (from requests<3,>=2.20.0->mxnet) (2.0.12)\n"
          ]
        }
      ]
    },
    {
      "cell_type": "code",
      "source": [
        "# Author: Jan Niklas Kolf, 2020\n",
        "from face_image_quality import SER_FIQ\n",
        "import cv2\n",
        "\n",
        "if __name__ == \"__main__\":\n",
        "    # Sample code of calculating the score of an image\n",
        "    \n",
        "    # Create the SER-FIQ Model\n",
        "    # Choose the GPU, default is 0.\n",
        "    ser_fiq = SER_FIQ(gpu=0)\n",
        "        \n",
        "    # Load the test image\n",
        "    test_img = cv2.imread(\"./data/test_img.jpeg\")\n",
        "    \n",
        "    # Align the image\n",
        "    aligned_img = ser_fiq.apply_mtcnn(test_img)\n",
        "    \n",
        "    # Calculate the quality score of the image\n",
        "    # T=100 (default) is a good choice\n",
        "    # Alpha and r parameters can be used to scale your\n",
        "    # score distribution.\n",
        "    score = ser_fiq.get_score(aligned_img, T=100)\n",
        "    \n",
        "    print(\"SER-FIQ quality score of image 1 is\", score)\n",
        "    \n",
        "    # Do the same thing for the second image as well\n",
        "    test_img2 = cv2.imread(\"./data/test_img2.jpeg\")\n",
        "    \n",
        "    aligned_img2 = ser_fiq.apply_mtcnn(test_img2)\n",
        "    \n",
        "    score2 = ser_fiq.get_score(aligned_img2, T=100)\n",
        "   \n",
        "    print(\"SER-FIQ quality score of image 2 is\", score2)\n"
      ],
      "metadata": {
        "colab": {
          "base_uri": "https://localhost:8080/",
          "height": 373
        },
        "id": "jchAq6Wj5vJA",
        "outputId": "a7be8d9c-fa5c-483c-8191-6fdd99aa380c"
      },
      "execution_count": 10,
      "outputs": [
        {
          "output_type": "error",
          "ename": "ModuleNotFoundError",
          "evalue": "ignored",
          "traceback": [
            "\u001b[0;31m---------------------------------------------------------------------------\u001b[0m",
            "\u001b[0;31mModuleNotFoundError\u001b[0m                       Traceback (most recent call last)",
            "\u001b[0;32m<ipython-input-10-4b316b50e0e6>\u001b[0m in \u001b[0;36m<cell line: 2>\u001b[0;34m()\u001b[0m\n\u001b[1;32m      1\u001b[0m \u001b[0;31m# Author: Jan Niklas Kolf, 2020\u001b[0m\u001b[0;34m\u001b[0m\u001b[0;34m\u001b[0m\u001b[0m\n\u001b[0;32m----> 2\u001b[0;31m \u001b[0;32mfrom\u001b[0m \u001b[0mface_image_quality\u001b[0m \u001b[0;32mimport\u001b[0m \u001b[0mSER_FIQ\u001b[0m\u001b[0;34m\u001b[0m\u001b[0;34m\u001b[0m\u001b[0m\n\u001b[0m\u001b[1;32m      3\u001b[0m \u001b[0;32mimport\u001b[0m \u001b[0mcv2\u001b[0m\u001b[0;34m\u001b[0m\u001b[0;34m\u001b[0m\u001b[0m\n\u001b[1;32m      4\u001b[0m \u001b[0;34m\u001b[0m\u001b[0m\n\u001b[1;32m      5\u001b[0m \u001b[0;32mif\u001b[0m \u001b[0m__name__\u001b[0m \u001b[0;34m==\u001b[0m \u001b[0;34m\"__main__\"\u001b[0m\u001b[0;34m:\u001b[0m\u001b[0;34m\u001b[0m\u001b[0;34m\u001b[0m\u001b[0m\n",
            "\u001b[0;31mModuleNotFoundError\u001b[0m: No module named 'face_image_quality'",
            "",
            "\u001b[0;31m---------------------------------------------------------------------------\u001b[0;32m\nNOTE: If your import is failing due to a missing package, you can\nmanually install dependencies using either !pip or !apt.\n\nTo view examples of installing some common dependencies, click the\n\"Open Examples\" button below.\n\u001b[0;31m---------------------------------------------------------------------------\u001b[0m\n"
          ],
          "errorDetails": {
            "actions": [
              {
                "action": "open_url",
                "actionText": "Open Examples",
                "url": "/notebooks/snippets/importing_libraries.ipynb"
              }
            ]
          }
        }
      ]
    }
  ]
}